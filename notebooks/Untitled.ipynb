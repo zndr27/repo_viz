{
 "cells": [
  {
   "cell_type": "code",
   "execution_count": null,
   "id": "a068fb41-7fdf-4463-9f00-0050e1ee9494",
   "metadata": {},
   "outputs": [
    {
     "name": "stdout",
     "output_type": "stream",
     "text": [
      " * Serving Flask app 'dtale'\n",
      " * Debug mode: off\n"
     ]
    },
    {
     "name": "stderr",
     "output_type": "stream",
     "text": [
      "\u001b[31m\u001b[1mWARNING: This is a development server. Do not use it in a production deployment. Use a production WSGI server instead.\u001b[0m\n",
      " * Running on all addresses (0.0.0.0)\n",
      " * Running on http://127.0.0.1:8080\n",
      " * Running on http://172.25.136.187:8080\n",
      "\u001b[33mPress CTRL+C to quit\u001b[0m\n",
      "172.25.128.1 - - [10/Jul/2024 15:58:48] \"GET / HTTP/1.1\" 200 -\n",
      "172.25.128.1 - - [10/Jul/2024 15:58:51] \"\u001b[32mGET /create-df HTTP/1.1\u001b[0m\" 302 -\n",
      "172.25.128.1 - - [10/Jul/2024 15:58:51] \"GET /dtale/main/1 HTTP/1.1\" 200 -\n",
      "172.25.128.1 - - [10/Jul/2024 15:58:51] \"GET /dtale/static/fonts/istok.woff HTTP/1.1\" 200 -\n",
      "172.25.128.1 - - [10/Jul/2024 15:58:51] \"GET /dtale/static/fonts/istok-bold.woff HTTP/1.1\" 200 -\n",
      "172.25.128.1 - - [10/Jul/2024 15:58:51] \"GET /dtale/static/fonts/Road_Rage.woff HTTP/1.1\" 200 -\n",
      "172.25.128.1 - - [10/Jul/2024 15:58:51] \"GET /dtale/static/dist/polyfills_bundle.js HTTP/1.1\" 200 -\n",
      "172.25.128.1 - - [10/Jul/2024 15:58:51] \"GET /dtale/static/css/main.css HTTP/1.1\" 200 -\n",
      "172.25.128.1 - - [10/Jul/2024 15:58:51] \"GET /dtale/static/dist/base_styles_bundle.js HTTP/1.1\" 200 -\n",
      "172.25.128.1 - - [10/Jul/2024 15:58:51] \"GET /dtale/static/dist/dtale_bundle.js HTTP/1.1\" 200 -\n",
      "172.25.128.1 - - [10/Jul/2024 15:58:52] \"GET /dtale/processes?dtypes=true HTTP/1.1\" 200 -\n",
      "172.25.128.1 - - [10/Jul/2024 15:58:52] \"GET /dtale/data/1?ids=[\"0-55\"] HTTP/1.1\" 200 -\n",
      "172.25.128.1 - - [10/Jul/2024 15:58:52] \"GET /dtale/static/fonts/icograil.woff?v1 HTTP/1.1\" 200 -\n"
     ]
    }
   ],
   "source": [
    "from dash import dcc, html\n",
    "import dash_bootstrap_components as dbc\n",
    "\n",
    "from dtale.app import build_app\n",
    "from dtale.views import startup\n",
    "\n",
    "from flask import redirect\n",
    "import pandas as pd\n",
    "\n",
    "dbc_css = \"https://cdn.jsdelivr.net/gh/AnnMarieW/dash-bootstrap-templates/dbc.min.css\"\n",
    "external_stylesheets = [\n",
    "    dbc.themes.BOOTSTRAP,\n",
    "    dbc.icons.FONT_AWESOME,\n",
    "    dbc_css,\n",
    "]\n",
    "\n",
    "app = build_app(reaper_on=False)\n",
    "\n",
    "@app.route(\"/create-df\")\n",
    "def create_df():\n",
    "    df = pd.DataFrame(dict(a=[1, 2, 3], b=[4, 5, 6]))\n",
    "    instance = startup(data=df, ignore_duplicate=True)\n",
    "    return redirect(f\"/dtale/main/{instance._data_id}\", code=302)\n",
    "\n",
    "@app.route(\"/\")\n",
    "def hello_world():\n",
    "    return 'Hi there, load data using <a href=\"/create-df\">create-df</a>'\n",
    "\n",
    "app.run(host=\"0.0.0.0\", port=8080)"
   ]
  },
  {
   "cell_type": "code",
   "execution_count": null,
   "id": "3f60306c-cbca-4727-acc6-a70de88b1295",
   "metadata": {},
   "outputs": [],
   "source": []
  }
 ],
 "metadata": {
  "kernelspec": {
   "display_name": "Python 3 (ipykernel)",
   "language": "python",
   "name": "python3"
  },
  "language_info": {
   "codemirror_mode": {
    "name": "ipython",
    "version": 3
   },
   "file_extension": ".py",
   "mimetype": "text/x-python",
   "name": "python",
   "nbconvert_exporter": "python",
   "pygments_lexer": "ipython3",
   "version": "3.12.4"
  }
 },
 "nbformat": 4,
 "nbformat_minor": 5
}
