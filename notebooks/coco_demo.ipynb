{
 "cells": [
  {
   "cell_type": "code",
   "execution_count": 1,
   "id": "052aa9bd-4c32-4947-a869-bf49d498dbcd",
   "metadata": {},
   "outputs": [],
   "source": [
    "import dash\n",
    "from dash import html, dcc, Input, Output, State, callback\n",
    "import dash_bootstrap_components as dbc\n",
    "from dash_iconify import DashIconify\n",
    "import dash_mantine_components as dmc\n",
    "import os\n",
    "\n",
    "class FileTree:\n",
    "\n",
    "    def __init__(self, filepath: os.PathLike):\n",
    "        \"\"\"\n",
    "        Usage: component = FileTree('Path/to/my/File').render()\n",
    "        \"\"\"\n",
    "        self.filepath = filepath\n",
    "\n",
    "    def render(self) -> dmc.Accordion:\n",
    "        return dmc.Accordion(\n",
    "            self.build_tree(self.filepath, isRoot=True), multiple=True)\n",
    "\n",
    "    def flatten(self, l):\n",
    "        return [item for sublist in l for item in sublist]\n",
    "\n",
    "    def make_file(self, file_name):\n",
    "        return dmc.Text(\n",
    "            [DashIconify(icon=\"akar-icons:file\"), \" \", file_name], style={\"paddingTop\": '5px'}\n",
    "        )\n",
    "\n",
    "    def make_folder(self, folder_name):\n",
    "        return [DashIconify(icon=\"akar-icons:folder\"), \" \", folder_name]\n",
    "\n",
    "    def build_tree(self, path, isRoot=False):\n",
    "        d = []\n",
    "        if os.path.isdir(path):\n",
    "            children = self.flatten([self.build_tree(os.path.join(path, x))\n",
    "                                    for x in os.listdir(path)])\n",
    "            if isRoot:\n",
    "                d.append(\n",
    "                    dmc.AccordionItem([\n",
    "                        dmc.AccordionControl(self.make_folder(os.path.basename(path))),\n",
    "                        dmc.AccordionPanel(children=children)\n",
    "                        ], value=str(path))\n",
    "                )\n",
    "            else:\n",
    "                d.append(\n",
    "                    dmc.Accordion(children=[\n",
    "                        dmc.AccordionItem([\n",
    "                            dmc.AccordionControl(self.make_folder(os.path.basename(path))),\n",
    "                            dmc.AccordionPanel(children=children)\n",
    "                            ], value=str(path))\n",
    "                    ], multiple=True)\n",
    "                )\n",
    "        else:\n",
    "            d.append(self.make_file(os.path.basename(path)))\n",
    "        return d"
   ]
  },
  {
   "cell_type": "code",
   "execution_count": 2,
   "id": "08719831-d26b-4648-bf03-a7fb8776b0d7",
   "metadata": {},
   "outputs": [],
   "source": [
    "import dagshub\n",
    "from dagshub.common.api.repo import RepoAPI\n",
    "from dagshub.data_engine.datasources import get_datasource\n",
    "from io import BytesIO\n",
    "from pathlib import Path\n",
    "from PIL import Image\n",
    "import requests\n",
    "\n",
    "import plotly.express as px\n",
    "import plotly.graph_objects as go\n",
    "\n",
    "token = '9379eb5d9f33527968c7253f77074ac56d67d9e4'\n",
    "headers = {\"Authorization\": f\"Bearer {token}\"}"
   ]
  },
  {
   "cell_type": "code",
   "execution_count": 3,
   "id": "c092d648-859c-4ac5-b4c4-63b29bc5235c",
   "metadata": {},
   "outputs": [
    {
     "data": {
      "text/html": [
       "<pre style=\"white-space:pre;overflow-x:auto;line-height:normal;font-family:Menlo,'DejaVu Sans Mono',consolas,'Courier New',monospace\">Accessing as zndr27\n",
       "</pre>\n"
      ],
      "text/plain": [
       "Accessing as zndr27\n"
      ]
     },
     "metadata": {},
     "output_type": "display_data"
    },
    {
     "data": {
      "text/html": [
       "<pre style=\"white-space:pre;overflow-x:auto;line-height:normal;font-family:Menlo,'DejaVu Sans Mono',consolas,'Courier New',monospace\">/home/zndr27/.cache/pypoetry/virtualenvs/repo-viz-Qeft-RkK-py3.12/lib/python3.12/site-packages/rich/live.py:229: \n",
       "UserWarning: install \"ipywidgets\" for Jupyter support\n",
       "  warnings.warn('install \"ipywidgets\" for Jupyter support')\n",
       "</pre>\n"
      ],
      "text/plain": [
       "/home/zndr27/.cache/pypoetry/virtualenvs/repo-viz-Qeft-RkK-py3.12/lib/python3.12/site-packages/rich/live.py:229: \n",
       "UserWarning: install \"ipywidgets\" for Jupyter support\n",
       "  warnings.warn('install \"ipywidgets\" for Jupyter support')\n"
      ]
     },
     "metadata": {},
     "output_type": "display_data"
    },
    {
     "data": {
      "text/html": [
       "<pre style=\"white-space:pre;overflow-x:auto;line-height:normal;font-family:Menlo,'DejaVu Sans Mono',consolas,'Courier New',monospace\"></pre>\n"
      ],
      "text/plain": []
     },
     "metadata": {},
     "output_type": "display_data"
    },
    {
     "data": {
      "text/html": [
       "<pre style=\"white-space:pre;overflow-x:auto;line-height:normal;font-family:Menlo,'DejaVu Sans Mono',consolas,'Courier New',monospace\">\n",
       "</pre>\n"
      ],
      "text/plain": [
       "\n"
      ]
     },
     "metadata": {},
     "output_type": "display_data"
    },
    {
     "name": "stdout",
     "output_type": "stream",
     "text": [
      "Datasource COCO_1K\n",
      "\tRepo: Dean/COCO_1K, path: repo://Dean/COCO_1K/main:data/images\n",
      "\tDatasourceQuery(as_of=None, time_zone=None, select=None, filter=Query: empty, order_by=None)\n",
      "\tFields:\n",
      "\t\tmedia type (STRING)\n",
      "\t\theight (INTEGER)\n",
      "\t\twidth (INTEGER)\n",
      "\t\tannotation (BLOB) with tags: {'annotation'}\n",
      "\t\tcustom_metadata (STRING)\n",
      "\t\tsize (INTEGER)\n",
      "\t\tcategories (STRING)\n",
      "\t\tvalid_datapoint (BOOLEAN)\n",
      "\t\tyear (INTEGER)\n",
      "\t\tsplit (STRING)\n",
      "\n"
     ]
    }
   ],
   "source": [
    "repo_id, ds_id = 'Dean/COCO_1K', 'COCO_1K'\n",
    "#repo_id, ds_id = 'OperationSavta/SavtaDepth', 'NYU_Depth_Processed'\n",
    "#repo_id, ds_id = 'Omdena/TriesteItalyChapter_MappingSeagrassMeadows', 'Seagrass_ROI_Winter'\n",
    "repo = RepoAPI(repo_id)\n",
    "\n",
    "repo_info = repo.get_repo_info()\n",
    "\n",
    "path_list = {}\n",
    "for path in repo.list_path(''):\n",
    "    path_list.setdefault(path.versioning, []).append(path)\n",
    "\n",
    "ds = get_datasource(repo_id, ds_id)\n",
    "query_all = ds.all()\n",
    "df = query_all.dataframe\n",
    "print(ds)"
   ]
  },
  {
   "cell_type": "code",
   "execution_count": 30,
   "id": "ed0f4f6e-3136-4268-8e80-bc4a5acd5aad",
   "metadata": {
    "scrolled": true
   },
   "outputs": [
    {
     "data": {
      "text/html": [
       "<pre style=\"white-space:pre;overflow-x:auto;line-height:normal;font-family:Menlo,'DejaVu Sans Mono',consolas,'Courier New',monospace\">/home/zndr27/.cache/pypoetry/virtualenvs/repo-viz-Qeft-RkK-py3.12/lib/python3.12/site-packages/rich/live.py:229: \n",
       "UserWarning: install \"ipywidgets\" for Jupyter support\n",
       "  warnings.warn('install \"ipywidgets\" for Jupyter support')\n",
       "</pre>\n"
      ],
      "text/plain": [
       "/home/zndr27/.cache/pypoetry/virtualenvs/repo-viz-Qeft-RkK-py3.12/lib/python3.12/site-packages/rich/live.py:229: \n",
       "UserWarning: install \"ipywidgets\" for Jupyter support\n",
       "  warnings.warn('install \"ipywidgets\" for Jupyter support')\n"
      ]
     },
     "metadata": {},
     "output_type": "display_data"
    },
    {
     "data": {
      "text/html": [
       "<pre style=\"white-space:pre;overflow-x:auto;line-height:normal;font-family:Menlo,'DejaVu Sans Mono',consolas,'Courier New',monospace\"></pre>\n"
      ],
      "text/plain": []
     },
     "metadata": {},
     "output_type": "display_data"
    },
    {
     "data": {
      "text/html": [
       "<pre style=\"white-space:pre;overflow-x:auto;line-height:normal;font-family:Menlo,'DejaVu Sans Mono',consolas,'Courier New',monospace\">\n",
       "</pre>\n"
      ],
      "text/plain": [
       "\n"
      ]
     },
     "metadata": {},
     "output_type": "display_data"
    },
    {
     "name": "stderr",
     "output_type": "stream",
     "text": [
      "Summarize dataset:  74%|███████████████████▉       | 14/19 [00:00<00:00, 18.89it/s, Calculate auto correlation]/home/zndr27/.cache/pypoetry/virtualenvs/repo-viz-Qeft-RkK-py3.12/lib/python3.12/site-packages/ydata_profiling/model/correlations.py:66: UserWarning: There was an attempt to calculate the auto correlation, but this failed.\n",
      "To hide this warning, disable the calculation\n",
      "(using `df.profile_report(correlations={\"auto\": {\"calculate\": False}})`\n",
      "If this is problematic for your use case, please report this as an issue:\n",
      "https://github.com/ydataai/ydata-profiling/issues\n",
      "(include the error message: 'could not convert string to float: 'train'')\n",
      "  warnings.warn(\n",
      "Summarize dataset: 100%|████████████████████████████████████████████| 37/37 [00:01<00:00, 18.64it/s, Completed]\n",
      "Generate report structure: 100%|█████████████████████████████████████████████████| 1/1 [00:04<00:00,  4.36s/it]\n",
      "Render HTML: 100%|███████████████████████████████████████████████████████████████| 1/1 [00:00<00:00,  1.95it/s]\n",
      "Done! Use 'show' commands to display/save.   |█████████████████████████████████| [100%]   00:00 -> (00:00 left)"
     ]
    },
    {
     "name": "stdout",
     "output_type": "stream",
     "text": [
      "Report /tmp/tmpgde_mseq/Dean/COCO_1K/sweetviz_report.html was generated.\n"
     ]
    },
    {
     "name": "stderr",
     "output_type": "stream",
     "text": [
      "\n"
     ]
    },
    {
     "ename": "JSONDecodeError",
     "evalue": "Expecting value: line 1 column 1 (char 0)",
     "output_type": "error",
     "traceback": [
      "\u001b[0;31m---------------------------------------------------------------------------\u001b[0m",
      "\u001b[0;31mJSONDecodeError\u001b[0m                           Traceback (most recent call last)",
      "File \u001b[0;32m~/.cache/pypoetry/virtualenvs/repo-viz-Qeft-RkK-py3.12/lib/python3.12/site-packages/requests/models.py:974\u001b[0m, in \u001b[0;36mResponse.json\u001b[0;34m(self, **kwargs)\u001b[0m\n\u001b[1;32m    973\u001b[0m \u001b[38;5;28;01mtry\u001b[39;00m:\n\u001b[0;32m--> 974\u001b[0m     \u001b[38;5;28;01mreturn\u001b[39;00m \u001b[43mcomplexjson\u001b[49m\u001b[38;5;241;43m.\u001b[39;49m\u001b[43mloads\u001b[49m\u001b[43m(\u001b[49m\u001b[38;5;28;43mself\u001b[39;49m\u001b[38;5;241;43m.\u001b[39;49m\u001b[43mtext\u001b[49m\u001b[43m,\u001b[49m\u001b[43m \u001b[49m\u001b[38;5;241;43m*\u001b[39;49m\u001b[38;5;241;43m*\u001b[39;49m\u001b[43mkwargs\u001b[49m\u001b[43m)\u001b[49m\n\u001b[1;32m    975\u001b[0m \u001b[38;5;28;01mexcept\u001b[39;00m JSONDecodeError \u001b[38;5;28;01mas\u001b[39;00m e:\n\u001b[1;32m    976\u001b[0m     \u001b[38;5;66;03m# Catch JSON-related errors and raise as requests.JSONDecodeError\u001b[39;00m\n\u001b[1;32m    977\u001b[0m     \u001b[38;5;66;03m# This aliases json.JSONDecodeError and simplejson.JSONDecodeError\u001b[39;00m\n",
      "File \u001b[0;32m~/.pyenv/versions/3.12.4/lib/python3.12/json/__init__.py:346\u001b[0m, in \u001b[0;36mloads\u001b[0;34m(s, cls, object_hook, parse_float, parse_int, parse_constant, object_pairs_hook, **kw)\u001b[0m\n\u001b[1;32m    343\u001b[0m \u001b[38;5;28;01mif\u001b[39;00m (\u001b[38;5;28mcls\u001b[39m \u001b[38;5;129;01mis\u001b[39;00m \u001b[38;5;28;01mNone\u001b[39;00m \u001b[38;5;129;01mand\u001b[39;00m object_hook \u001b[38;5;129;01mis\u001b[39;00m \u001b[38;5;28;01mNone\u001b[39;00m \u001b[38;5;129;01mand\u001b[39;00m\n\u001b[1;32m    344\u001b[0m         parse_int \u001b[38;5;129;01mis\u001b[39;00m \u001b[38;5;28;01mNone\u001b[39;00m \u001b[38;5;129;01mand\u001b[39;00m parse_float \u001b[38;5;129;01mis\u001b[39;00m \u001b[38;5;28;01mNone\u001b[39;00m \u001b[38;5;129;01mand\u001b[39;00m\n\u001b[1;32m    345\u001b[0m         parse_constant \u001b[38;5;129;01mis\u001b[39;00m \u001b[38;5;28;01mNone\u001b[39;00m \u001b[38;5;129;01mand\u001b[39;00m object_pairs_hook \u001b[38;5;129;01mis\u001b[39;00m \u001b[38;5;28;01mNone\u001b[39;00m \u001b[38;5;129;01mand\u001b[39;00m \u001b[38;5;129;01mnot\u001b[39;00m kw):\n\u001b[0;32m--> 346\u001b[0m     \u001b[38;5;28;01mreturn\u001b[39;00m \u001b[43m_default_decoder\u001b[49m\u001b[38;5;241;43m.\u001b[39;49m\u001b[43mdecode\u001b[49m\u001b[43m(\u001b[49m\u001b[43ms\u001b[49m\u001b[43m)\u001b[49m\n\u001b[1;32m    347\u001b[0m \u001b[38;5;28;01mif\u001b[39;00m \u001b[38;5;28mcls\u001b[39m \u001b[38;5;129;01mis\u001b[39;00m \u001b[38;5;28;01mNone\u001b[39;00m:\n",
      "File \u001b[0;32m~/.pyenv/versions/3.12.4/lib/python3.12/json/decoder.py:337\u001b[0m, in \u001b[0;36mJSONDecoder.decode\u001b[0;34m(self, s, _w)\u001b[0m\n\u001b[1;32m    333\u001b[0m \u001b[38;5;250m\u001b[39m\u001b[38;5;124;03m\"\"\"Return the Python representation of ``s`` (a ``str`` instance\u001b[39;00m\n\u001b[1;32m    334\u001b[0m \u001b[38;5;124;03mcontaining a JSON document).\u001b[39;00m\n\u001b[1;32m    335\u001b[0m \n\u001b[1;32m    336\u001b[0m \u001b[38;5;124;03m\"\"\"\u001b[39;00m\n\u001b[0;32m--> 337\u001b[0m obj, end \u001b[38;5;241m=\u001b[39m \u001b[38;5;28;43mself\u001b[39;49m\u001b[38;5;241;43m.\u001b[39;49m\u001b[43mraw_decode\u001b[49m\u001b[43m(\u001b[49m\u001b[43ms\u001b[49m\u001b[43m,\u001b[49m\u001b[43m \u001b[49m\u001b[43midx\u001b[49m\u001b[38;5;241;43m=\u001b[39;49m\u001b[43m_w\u001b[49m\u001b[43m(\u001b[49m\u001b[43ms\u001b[49m\u001b[43m,\u001b[49m\u001b[43m \u001b[49m\u001b[38;5;241;43m0\u001b[39;49m\u001b[43m)\u001b[49m\u001b[38;5;241;43m.\u001b[39;49m\u001b[43mend\u001b[49m\u001b[43m(\u001b[49m\u001b[43m)\u001b[49m\u001b[43m)\u001b[49m\n\u001b[1;32m    338\u001b[0m end \u001b[38;5;241m=\u001b[39m _w(s, end)\u001b[38;5;241m.\u001b[39mend()\n",
      "File \u001b[0;32m~/.pyenv/versions/3.12.4/lib/python3.12/json/decoder.py:355\u001b[0m, in \u001b[0;36mJSONDecoder.raw_decode\u001b[0;34m(self, s, idx)\u001b[0m\n\u001b[1;32m    354\u001b[0m \u001b[38;5;28;01mexcept\u001b[39;00m \u001b[38;5;167;01mStopIteration\u001b[39;00m \u001b[38;5;28;01mas\u001b[39;00m err:\n\u001b[0;32m--> 355\u001b[0m     \u001b[38;5;28;01mraise\u001b[39;00m JSONDecodeError(\u001b[38;5;124m\"\u001b[39m\u001b[38;5;124mExpecting value\u001b[39m\u001b[38;5;124m\"\u001b[39m, s, err\u001b[38;5;241m.\u001b[39mvalue) \u001b[38;5;28;01mfrom\u001b[39;00m \u001b[38;5;28;01mNone\u001b[39;00m\n\u001b[1;32m    356\u001b[0m \u001b[38;5;28;01mreturn\u001b[39;00m obj, end\n",
      "\u001b[0;31mJSONDecodeError\u001b[0m: Expecting value: line 1 column 1 (char 0)",
      "\nDuring handling of the above exception, another exception occurred:\n",
      "\u001b[0;31mJSONDecodeError\u001b[0m                           Traceback (most recent call last)",
      "Cell \u001b[0;32mIn[30], line 58\u001b[0m\n\u001b[1;32m     44\u001b[0m data \u001b[38;5;241m|\u001b[39m\u001b[38;5;241m=\u001b[39m {\n\u001b[1;32m     45\u001b[0m     \u001b[38;5;124m\"\u001b[39m\u001b[38;5;124mrepo_owner\u001b[39m\u001b[38;5;124m\"\u001b[39m: repo_owner, \n\u001b[1;32m     46\u001b[0m     \u001b[38;5;124m\"\u001b[39m\u001b[38;5;124mrepo_name\u001b[39m\u001b[38;5;124m\"\u001b[39m: repo_name,\n\u001b[0;32m   (...)\u001b[0m\n\u001b[1;32m     50\u001b[0m     \u001b[38;5;124m\"\u001b[39m\u001b[38;5;124msweetviz_html\u001b[39m\u001b[38;5;124m\"\u001b[39m: sweetviz_html,\n\u001b[1;32m     51\u001b[0m }\n\u001b[1;32m     53\u001b[0m req \u001b[38;5;241m=\u001b[39m requests\u001b[38;5;241m.\u001b[39mpost(\n\u001b[1;32m     54\u001b[0m     \u001b[38;5;124m\"\u001b[39m\u001b[38;5;124mhttp://localhost:8080/create-df\u001b[39m\u001b[38;5;124m\"\u001b[39m,\n\u001b[1;32m     55\u001b[0m     json\u001b[38;5;241m=\u001b[39mdata,\n\u001b[1;32m     56\u001b[0m )\n\u001b[0;32m---> 58\u001b[0m data \u001b[38;5;241m|\u001b[39m\u001b[38;5;241m=\u001b[39m \u001b[43mreq\u001b[49m\u001b[38;5;241;43m.\u001b[39;49m\u001b[43mjson\u001b[49m\u001b[43m(\u001b[49m\u001b[43m)\u001b[49m\n",
      "File \u001b[0;32m~/.cache/pypoetry/virtualenvs/repo-viz-Qeft-RkK-py3.12/lib/python3.12/site-packages/requests/models.py:978\u001b[0m, in \u001b[0;36mResponse.json\u001b[0;34m(self, **kwargs)\u001b[0m\n\u001b[1;32m    974\u001b[0m     \u001b[38;5;28;01mreturn\u001b[39;00m complexjson\u001b[38;5;241m.\u001b[39mloads(\u001b[38;5;28mself\u001b[39m\u001b[38;5;241m.\u001b[39mtext, \u001b[38;5;241m*\u001b[39m\u001b[38;5;241m*\u001b[39mkwargs)\n\u001b[1;32m    975\u001b[0m \u001b[38;5;28;01mexcept\u001b[39;00m JSONDecodeError \u001b[38;5;28;01mas\u001b[39;00m e:\n\u001b[1;32m    976\u001b[0m     \u001b[38;5;66;03m# Catch JSON-related errors and raise as requests.JSONDecodeError\u001b[39;00m\n\u001b[1;32m    977\u001b[0m     \u001b[38;5;66;03m# This aliases json.JSONDecodeError and simplejson.JSONDecodeError\u001b[39;00m\n\u001b[0;32m--> 978\u001b[0m     \u001b[38;5;28;01mraise\u001b[39;00m RequestsJSONDecodeError(e\u001b[38;5;241m.\u001b[39mmsg, e\u001b[38;5;241m.\u001b[39mdoc, e\u001b[38;5;241m.\u001b[39mpos)\n",
      "\u001b[0;31mJSONDecodeError\u001b[0m: Expecting value: line 1 column 1 (char 0)"
     ]
    }
   ],
   "source": [
    "import git\n",
    "import os\n",
    "from pathlib import Path\n",
    "import requests\n",
    "from sweetviz import analyze\n",
    "import tempfile\n",
    "from ydata_profiling import ProfileReport\n",
    "\n",
    "# TODO start the dtale server...\n",
    "\n",
    "data = {}\n",
    "\n",
    "repo_owner, repo_name = repo_id.split(\"/\")\n",
    "dataset_id = ds_id\n",
    "\n",
    "# Connect to the Dagshub Client\n",
    "repo = RepoAPI(repo_id)\n",
    "repo_info = repo.get_repo_info()\n",
    "\n",
    "# Get the entire dataset\n",
    "ds = get_datasource(repo_id, dataset_id)\n",
    "query_all = ds.all()\n",
    "df = query_all.dataframe\n",
    "\n",
    "# File tree\n",
    "tempdir = tempfile.TemporaryDirectory()\n",
    "files_path = Path(tempdir.name) / repo_id\n",
    "os.makedirs(files_path, exist_ok=True)\n",
    "repo_git = git.Repo.clone_from(repo_info.clone_url, files_path)\n",
    "\n",
    "# YData report\n",
    "ydata_profile = ProfileReport(df, title=\"Profiling Report\")\n",
    "ydata_html = ydata_profile.to_html()\n",
    "\n",
    "# Sweetviz report\n",
    "sweetviz_report = analyze(df)\n",
    "sweetviz_report.show_html(\n",
    "    str(files_path / \"sweetviz_report.html\"), \n",
    "    open_browser=False, \n",
    "    layout=\"vertical\",\n",
    ")\n",
    "with open(files_path / \"sweetviz_report.html\", \"r\") as f:\n",
    "    sweetviz_html = f.read()\n",
    "\n",
    "# Update app state on frontend\n",
    "data |= {\n",
    "    \"repo_owner\": repo_owner, \n",
    "    \"repo_name\": repo_name,\n",
    "    \"dataset_id\": dataset_id,\n",
    "    \"dataframe\": df.to_json(orient=\"columns\"),\n",
    "    \"ydata_html\": ydata_html,\n",
    "    \"sweetviz_html\": sweetviz_html,\n",
    "}\n",
    "\n",
    "req = requests.post(\n",
    "    \"http://localhost:8080/create-df\",\n",
    "    json=data,\n",
    ")\n",
    "\n",
    "data |= req.json()"
   ]
  },
  {
   "cell_type": "code",
   "execution_count": 31,
   "id": "4caaf19c-98ab-43a3-bdc6-8ad5d62e6cb6",
   "metadata": {},
   "outputs": [
    {
     "data": {
      "text/plain": [
       "<Response [500]>"
      ]
     },
     "execution_count": 31,
     "metadata": {},
     "output_type": "execute_result"
    }
   ],
   "source": [
    "req"
   ]
  },
  {
   "cell_type": "code",
   "execution_count": null,
   "id": "732875f8-b70a-4ecd-b4c2-cc845d9d5204",
   "metadata": {},
   "outputs": [],
   "source": []
  },
  {
   "cell_type": "code",
   "execution_count": null,
   "id": "83a699ec-057e-431d-a086-aa824495b474",
   "metadata": {},
   "outputs": [],
   "source": []
  },
  {
   "cell_type": "code",
   "execution_count": null,
   "id": "0f692bba-7593-4e2b-873e-9aa0fcbc6ba2",
   "metadata": {},
   "outputs": [],
   "source": []
  },
  {
   "cell_type": "code",
   "execution_count": 8,
   "id": "24e924c6-db27-4af7-abfa-d6cd1524a757",
   "metadata": {},
   "outputs": [],
   "source": [
    "from dagshub.data_engine.datasources import get_datasources\n",
    "ds_list = get_datasources(repo_id)"
   ]
  },
  {
   "cell_type": "code",
   "execution_count": 24,
   "id": "1dd4663b-0ed1-4d39-85fa-0f49b42031b5",
   "metadata": {
    "scrolled": true
   },
   "outputs": [
    {
     "data": {
      "text/plain": [
       "DatasourceState(repo='Dean/COCO_1K', name='COCO_1.1K_Demo', id=519, source_type=<DatasourceType.REPOSITORY: 'REPOSITORY'>, preprocessing_status=<PreprocessingStatus.READY: 'READY'>, path='repo://Dean/COCO_1K/main:data/images', client=<dagshub.data_engine.client.data_client.DataClient object at 0x7f40d023d730>, repoApi=<dagshub.common.api.repo.RepoAPI object at 0x7f40d023deb0>, metadata_fields=[annotation (BLOB) with tags: {'annotation'}, year (INTEGER), split (STRING), categories (STRING), valid_datapoint (BOOLEAN), size (INTEGER)], _revision='main')"
      ]
     },
     "execution_count": 24,
     "metadata": {},
     "output_type": "execute_result"
    }
   ],
   "source": [
    "ds_list[0]._source"
   ]
  },
  {
   "cell_type": "code",
   "execution_count": null,
   "id": "1b5dfccd-3be7-4b8f-8029-545844b2706f",
   "metadata": {},
   "outputs": [],
   "source": []
  },
  {
   "cell_type": "code",
   "execution_count": null,
   "id": "4c28d698-3d85-4779-9322-0ad077bd4ba9",
   "metadata": {},
   "outputs": [],
   "source": []
  },
  {
   "cell_type": "code",
   "execution_count": null,
   "id": "40265da0-bedf-499d-91a1-fbba21c7f5c6",
   "metadata": {},
   "outputs": [],
   "source": []
  },
  {
   "cell_type": "code",
   "execution_count": null,
   "id": "22c087e0-4c4b-44af-adc5-1ea08d4ae6c3",
   "metadata": {},
   "outputs": [],
   "source": []
  },
  {
   "cell_type": "code",
   "execution_count": null,
   "id": "21e6e269-55c0-4fab-9562-df03f046484b",
   "metadata": {},
   "outputs": [],
   "source": []
  },
  {
   "cell_type": "code",
   "execution_count": null,
   "id": "972d52e1-97a8-487e-832f-e7a4fb803d0c",
   "metadata": {},
   "outputs": [],
   "source": []
  },
  {
   "cell_type": "code",
   "execution_count": 4,
   "id": "d820a04d-1f66-4f34-9b30-445ef1e35702",
   "metadata": {},
   "outputs": [
    {
     "data": {
      "text/plain": [
       "RepoAPIResponse(id=20451, owner=UserAPIResponse(id=5, login='Dean', full_name='Dean Pleban', avatar_url='https://dagshub.com/avatars/5', public_email='', website='https://dagshub.com/Dean', company='DagsHub', description='', username='Dean'), name='COCO_1K', full_name='Dean/COCO_1K', description='1000 Images from COCO dataset with polygon segmentation', private=False, fork=False, parent=None, empty=False, mirror=False, size=1490944, html_url='https://dagshub.com/Dean/COCO_1K', ssh_url='ssh://git@dagshub.com:2200/Dean/COCO_1K.git', clone_url='https://dagshub.com/Dean/COCO_1K.git', website='', stars_count=7, forks_count=27, watchers_count=2, open_issues_count=0, default_branch='main', created_at='2023-07-29T14:28:49Z', updated_at='2024-05-29T13:57:41Z', permissions={'admin': False, 'push': False, 'pull': True})"
      ]
     },
     "execution_count": 4,
     "metadata": {},
     "output_type": "execute_result"
    }
   ],
   "source": [
    "repo_info"
   ]
  },
  {
   "cell_type": "code",
   "execution_count": 5,
   "id": "070f1479-ea2d-486c-a6f9-6583d61c3421",
   "metadata": {},
   "outputs": [],
   "source": [
    "search_value = 'COCO'\n",
    "response = requests.get(\n",
    "    f\"https://dagshub.com/api/v1/repos/search?q={search_value}&uid=0&limit=50&page=1\",\n",
    "    headers=headers,\n",
    ")"
   ]
  },
  {
   "cell_type": "code",
   "execution_count": 8,
   "id": "44c246c4-35e0-4649-913d-b7c32ff6e17d",
   "metadata": {
    "scrolled": true
   },
   "outputs": [
    {
     "data": {
      "text/plain": [
       "['__attrs__',\n",
       " '__bool__',\n",
       " '__class__',\n",
       " '__delattr__',\n",
       " '__dict__',\n",
       " '__dir__',\n",
       " '__doc__',\n",
       " '__enter__',\n",
       " '__eq__',\n",
       " '__exit__',\n",
       " '__format__',\n",
       " '__ge__',\n",
       " '__getattribute__',\n",
       " '__getstate__',\n",
       " '__gt__',\n",
       " '__hash__',\n",
       " '__init__',\n",
       " '__init_subclass__',\n",
       " '__iter__',\n",
       " '__le__',\n",
       " '__lt__',\n",
       " '__module__',\n",
       " '__ne__',\n",
       " '__new__',\n",
       " '__nonzero__',\n",
       " '__reduce__',\n",
       " '__reduce_ex__',\n",
       " '__repr__',\n",
       " '__setattr__',\n",
       " '__setstate__',\n",
       " '__sizeof__',\n",
       " '__str__',\n",
       " '__subclasshook__',\n",
       " '__weakref__',\n",
       " '_content',\n",
       " '_content_consumed',\n",
       " '_next',\n",
       " 'apparent_encoding',\n",
       " 'close',\n",
       " 'connection',\n",
       " 'content',\n",
       " 'cookies',\n",
       " 'elapsed',\n",
       " 'encoding',\n",
       " 'headers',\n",
       " 'history',\n",
       " 'is_permanent_redirect',\n",
       " 'is_redirect',\n",
       " 'iter_content',\n",
       " 'iter_lines',\n",
       " 'json',\n",
       " 'links',\n",
       " 'next',\n",
       " 'ok',\n",
       " 'raise_for_status',\n",
       " 'raw',\n",
       " 'reason',\n",
       " 'request',\n",
       " 'status_code',\n",
       " 'text',\n",
       " 'url']"
      ]
     },
     "execution_count": 8,
     "metadata": {},
     "output_type": "execute_result"
    }
   ],
   "source": [
    "dir(response)"
   ]
  },
  {
   "cell_type": "code",
   "execution_count": 6,
   "id": "77d0d3c9-321f-4f92-8982-4afa5bfaee5b",
   "metadata": {
    "scrolled": true
   },
   "outputs": [
    {
     "data": {
      "text/plain": [
       "['Simon/COCO-2017',\n",
       " 'radoudounousta/coco',\n",
       " 'dudifrid/COCO',\n",
       " 'xiang-wuu/coco128',\n",
       " 'Devolta05/Occluded_COCOC_Dataset',\n",
       " 'DagsHub-Datasets/fast-ai-coco-dataset',\n",
       " 'vysakhramkrishnan7/COCO_Dataset_Semantic_Segmentation',\n",
       " 'noa/annotate-coco',\n",
       " 'Nikitha-Narendra/Transfer-Annotation-COCO',\n",
       " 'ch.amnuay/COCO-2017',\n",
       " 'Dean/COCO8',\n",
       " 'Dean/COCO8_Demo',\n",
       " 'Nikitha-Narendra/COCO8',\n",
       " 'Dean/COCO_1K',\n",
       " 'BrentMat/COCO_1K',\n",
       " 'ij451r/COCO_1K',\n",
       " 'yonomitt/COCO_1K',\n",
       " 'eugenia.anello/COCO_1K',\n",
       " 'erow/COCO_1K',\n",
       " 'wyzhu234/COCO_1K',\n",
       " 'imentivai/COCO_1K',\n",
       " 'pragadeeshraju/COCO_1K',\n",
       " 'benjipeng/COCO_1K_learnfrom_demo',\n",
       " 'nikhilkshaji/COCO_1K',\n",
       " 'nirbarazida/COCO8',\n",
       " 'nirbarazida/COCO_1K',\n",
       " 'Dean/DagsHubDrive',\n",
       " 'idonov/COCO_1K',\n",
       " 'tiendd.public/COCO_1K',\n",
       " 'cyberbeam524/COCO_1K',\n",
       " 'GenceErdagi/COCO_1K',\n",
       " 'Simon/COCO_1K',\n",
       " 'anna/COCO_1K_fork_test',\n",
       " 'prakugenius/COCO_1K',\n",
       " 'diabyanas/cocoa-disease-detection',\n",
       " 'diabyanas/cocoa-diseases-detection',\n",
       " 'jaimin-simform/autolabel1',\n",
       " 'avi/COCO_1K',\n",
       " 'jcodeing/COCO_1K',\n",
       " 'emanuel.afessa/COCO_1K',\n",
       " 'elad-n/COCO_1K',\n",
       " 'hash202606/COCO_1K',\n",
       " 'nardilvc/COCO_1K',\n",
       " 'DagsHub/segmentation-sample-dataset',\n",
       " 'ScottLuo42/COCO_1K',\n",
       " 'evgeni/COCO_1K',\n",
       " 'KBolashev/coco8-pose',\n",
       " 'namdvt/COCO_1K',\n",
       " 'kesauso1234/COCO_1K',\n",
       " 'namdvt/test_COCO_1K']"
      ]
     },
     "execution_count": 6,
     "metadata": {},
     "output_type": "execute_result"
    }
   ],
   "source": [
    "[_.get('full_name') for _ in response.json().get('data')]"
   ]
  },
  {
   "cell_type": "code",
   "execution_count": 16,
   "id": "6a5d0572-6735-4ee9-9bd8-f1f01ce9c631",
   "metadata": {},
   "outputs": [
    {
     "data": {
      "text/html": [
       "\n",
       "        <iframe\n",
       "            width=\"100%\"\n",
       "            height=\"650\"\n",
       "            src=\"http://127.0.0.1:8052/\"\n",
       "            frameborder=\"0\"\n",
       "            allowfullscreen\n",
       "            \n",
       "        ></iframe>\n",
       "        "
      ],
      "text/plain": [
       "<IPython.lib.display.IFrame at 0x7f66df3ce290>"
      ]
     },
     "metadata": {},
     "output_type": "display_data"
    }
   ],
   "source": [
    "\"\"\"\n",
    "A simple app demonstrating how to manually construct a navbar with a customised\n",
    "layout using the Navbar component and the supporting Nav, NavItem, NavLink,\n",
    "NavbarBrand, and NavbarToggler components.\n",
    "\n",
    "Requires dash-bootstrap-components 0.3.0 or later\n",
    "\"\"\"\n",
    "\n",
    "import dash\n",
    "import dash_bootstrap_components as dbc\n",
    "from dash import Input, Output, State, html\n",
    "\n",
    "PLOTLY_LOGO = \"https://images.plot.ly/logo/new-branding/plotly-logomark.png\"\n",
    "\n",
    "app = dash.Dash(external_stylesheets=[dbc.themes.BOOTSTRAP])\n",
    "# try running the app with one of the Bootswatch themes e.g.\n",
    "# app = dash.Dash(external_stylesheets=[dbc.themes.JOURNAL])\n",
    "# app = dash.Dash(external_stylesheets=[dbc.themes.SKETCHY])\n",
    "\n",
    "# make a reuseable navitem for the different examples\n",
    "nav_item = dbc.NavItem(dbc.NavLink(\"Link\", href=\"#\"))\n",
    "\n",
    "# make a reuseable dropdown for the different examples\n",
    "dropdown = dbc.DropdownMenu(\n",
    "    children=[\n",
    "        dbc.DropdownMenuItem(\"Entry 1\"),\n",
    "        dbc.DropdownMenuItem(\"Entry 2\"),\n",
    "        dbc.DropdownMenuItem(divider=True),\n",
    "        dbc.DropdownMenuItem(\"Entry 3\"),\n",
    "    ],\n",
    "    nav=True,\n",
    "    in_navbar=True,\n",
    "    label=\"Menu\",\n",
    ")\n",
    "\n",
    "# this is the default navbar style created by the NavbarSimple component\n",
    "default = dbc.NavbarSimple(\n",
    "    children=[nav_item, dropdown],\n",
    "    brand=\"Default\",\n",
    "    brand_href=\"#\",\n",
    "    sticky=\"top\",\n",
    "    className=\"mb-5\",\n",
    ")\n",
    "\n",
    "# here's how you can recreate the same thing using Navbar\n",
    "# (see also required callback at the end of the file)\n",
    "custom_default = dbc.Navbar(\n",
    "    dbc.Container(\n",
    "        [\n",
    "            dbc.NavbarBrand(\"Custom default\", href=\"#\"),\n",
    "            dbc.NavbarToggler(id=\"navbar-toggler1\"),\n",
    "            dbc.Collapse(\n",
    "                dbc.Nav(\n",
    "                    [nav_item, dropdown], className=\"ms-auto\", navbar=True\n",
    "                ),\n",
    "                id=\"navbar-collapse1\",\n",
    "                navbar=True,\n",
    "            ),\n",
    "        ]\n",
    "    ),\n",
    "    className=\"mb-5\",\n",
    ")\n",
    "\n",
    "\n",
    "# this example that adds a logo to the navbar brand\n",
    "logo = dbc.Navbar(\n",
    "    dbc.Container(\n",
    "        [\n",
    "            html.A(\n",
    "                # Use row and col to control vertical alignment of logo / brand\n",
    "                dbc.Row(\n",
    "                    [\n",
    "                        dbc.Col(html.Img(src=PLOTLY_LOGO, height=\"30px\")),\n",
    "                        dbc.Col(dbc.NavbarBrand(\"Logo\", className=\"ms-2\")),\n",
    "                    ],\n",
    "                    align=\"center\",\n",
    "                    className=\"g-0\",\n",
    "                ),\n",
    "                href=\"https://plotly.com\",\n",
    "                style={\"textDecoration\": \"none\"},\n",
    "            ),\n",
    "            dbc.NavbarToggler(id=\"navbar-toggler2\", n_clicks=0),\n",
    "            dbc.Collapse(\n",
    "                dbc.Nav(\n",
    "                    [nav_item, dropdown],\n",
    "                    className=\"ms-auto\",\n",
    "                    navbar=True,\n",
    "                ),\n",
    "                id=\"navbar-collapse2\",\n",
    "                navbar=True,\n",
    "            ),\n",
    "        ],\n",
    "    ),\n",
    "    color=\"dark\",\n",
    "    dark=True,\n",
    "    className=\"mb-5\",\n",
    ")\n",
    "\n",
    "# this example has a search bar and button instead of navitems / dropdowns\n",
    "search_navbar = dbc.Navbar(\n",
    "    dbc.Container(\n",
    "        [\n",
    "            dbc.NavbarBrand(\"Search\", href=\"#\"),\n",
    "            dbc.NavbarToggler(id=\"navbar-toggler3\"),\n",
    "            dbc.Collapse(\n",
    "                dbc.Row(\n",
    "                    [\n",
    "                        dbc.Col(\n",
    "                            dbc.Input(type=\"search\", placeholder=\"Search\")\n",
    "                        ),\n",
    "                        dbc.Col(\n",
    "                            dbc.Button(\n",
    "                                \"Search\", color=\"primary\", className=\"ms-2\"\n",
    "                            ),\n",
    "                            # set width of button column to auto to allow\n",
    "                            # search box to take up remaining space.\n",
    "                            width=\"auto\",\n",
    "                        ),\n",
    "                    ],\n",
    "                    # add a top margin to make things look nice when the navbar\n",
    "                    # isn't expanded (mt-3) remove the margin on medium or\n",
    "                    # larger screens (mt-md-0) when the navbar is expanded.\n",
    "                    # keep button and search box on same row (flex-nowrap).\n",
    "                    # align everything on the right with left margin (ms-auto).\n",
    "                    className=\"g-0 ms-auto flex-nowrap mt-3 mt-md-0\",\n",
    "                    align=\"center\",\n",
    "                ),\n",
    "                id=\"navbar-collapse3\",\n",
    "                navbar=True,\n",
    "            ),\n",
    "        ]\n",
    "    ),\n",
    "    className=\"mb-5\",\n",
    ")\n",
    "\n",
    "# custom navbar based on https://getbootstrap.com/docs/4.1/examples/dashboard/\n",
    "dashboard = dbc.Navbar(\n",
    "    dbc.Container(\n",
    "        [\n",
    "            dbc.Col(dbc.NavbarBrand(\"Dashboard\", href=\"#\"), sm=3, md=2),\n",
    "            dbc.Col(dbc.Input(type=\"search\", placeholder=\"Search here\")),\n",
    "            dbc.Col(\n",
    "                dbc.Nav(\n",
    "                    dbc.Container(dbc.NavItem(dbc.NavLink(\"Sign out\"))),\n",
    "                    navbar=True,\n",
    "                ),\n",
    "                width=\"auto\",\n",
    "            ),\n",
    "        ],\n",
    "    ),\n",
    "    color=\"dark\",\n",
    "    dark=True,\n",
    ")\n",
    "\n",
    "app.layout = html.Div(\n",
    "    [default, custom_default, logo, search_navbar, dashboard]\n",
    ")\n",
    "\n",
    "\n",
    "# we use a callback to toggle the collapse on small screens\n",
    "def toggle_navbar_collapse(n, is_open):\n",
    "    if n:\n",
    "        return not is_open\n",
    "    return is_open\n",
    "\n",
    "\n",
    "# the same function (toggle_navbar_collapse) is used in all three callbacks\n",
    "for i in [1, 2, 3]:\n",
    "    app.callback(\n",
    "        Output(f\"navbar-collapse{i}\", \"is_open\"),\n",
    "        [Input(f\"navbar-toggler{i}\", \"n_clicks\")],\n",
    "        [State(f\"navbar-collapse{i}\", \"is_open\")],\n",
    "    )(toggle_navbar_collapse)\n",
    "\n",
    "if __name__ == \"__main__\":\n",
    "    app.run_server(debug=True, port=8052)\n",
    "    p"
   ]
  },
  {
   "cell_type": "code",
   "execution_count": null,
   "id": "dd8e3a36-0ec1-46d4-9b95-30ca187f905c",
   "metadata": {},
   "outputs": [],
   "source": []
  },
  {
   "cell_type": "code",
   "execution_count": null,
   "id": "92d394d2-46e0-4f13-a65c-1237286262e3",
   "metadata": {},
   "outputs": [],
   "source": []
  },
  {
   "cell_type": "code",
   "execution_count": null,
   "id": "34b937fa-31f1-4be2-a27d-0dea96d5b2a1",
   "metadata": {},
   "outputs": [],
   "source": []
  },
  {
   "cell_type": "code",
   "execution_count": null,
   "id": "48fcc6a9-dbce-4543-831c-3ebbfa42aa8e",
   "metadata": {},
   "outputs": [],
   "source": []
  },
  {
   "cell_type": "code",
   "execution_count": 5,
   "id": "eb4fb1b4-c2cc-42b7-a8ca-a1a0ba928a68",
   "metadata": {},
   "outputs": [],
   "source": [
    "import git\n",
    "import contextlib\n",
    "import tempfile\n",
    "\n",
    "#@contextlib.contextmanager\n",
    "#def temp_repo(url: AnyPath) -> Generator[git.Repo, None, None]:\n",
    "#    \"\"\"\n",
    "#    Returns a git repo cloned to a temp directory\n",
    "#    \"\"\"\n",
    "#    with tempfile.TemporaryDirectory() as tmpdirname:\n",
    "#        yield git.Repo.clone_from(url, tmpdirname)\n",
    "td = tempfile.TemporaryDirectory()"
   ]
  },
  {
   "cell_type": "code",
   "execution_count": 6,
   "id": "8f167da8-fa4d-4198-b59b-602a5c973e1f",
   "metadata": {},
   "outputs": [],
   "source": [
    "repo_git = git.Repo.clone_from(repo_info.clone_url, td.name)"
   ]
  },
  {
   "cell_type": "code",
   "execution_count": 7,
   "id": "449f86c6-f4aa-4122-82e9-14ff1b7b107c",
   "metadata": {},
   "outputs": [
    {
     "data": {
      "text/plain": [
       "['.dvcignore',\n",
       " 'custom_coco.yaml',\n",
       " 'data.dvc',\n",
       " '.gitignore',\n",
       " 'README.md',\n",
       " 'de_walkthrough.ipynb',\n",
       " '.git',\n",
       " 'ls_backend',\n",
       " 'utils',\n",
       " 'Makefile',\n",
       " 'resources',\n",
       " 'requirements.txt',\n",
       " '.dvc']"
      ]
     },
     "execution_count": 7,
     "metadata": {},
     "output_type": "execute_result"
    }
   ],
   "source": [
    "os.listdir(td.name)"
   ]
  },
  {
   "cell_type": "code",
   "execution_count": 9,
   "id": "d1d58a63-c35d-4413-b491-3978df2e0852",
   "metadata": {},
   "outputs": [],
   "source": [
    "from pathlib import Path\n",
    "from natsort import natsorted\n",
    "path = Path(td.name)\n",
    "folders = natsorted([x for x in path.iterdir() if x.is_dir()])\n",
    "files = natsorted([x for x in path.iterdir() if not x.is_dir()])\n",
    "result = folders + files"
   ]
  },
  {
   "cell_type": "code",
   "execution_count": 10,
   "id": "e98fc592-d813-49c8-b7ff-403c555dd797",
   "metadata": {},
   "outputs": [
    {
     "data": {
      "text/plain": [
       "[PosixPath('/tmp/tmppeac6yry/.dvc'),\n",
       " PosixPath('/tmp/tmppeac6yry/.git'),\n",
       " PosixPath('/tmp/tmppeac6yry/ls_backend'),\n",
       " PosixPath('/tmp/tmppeac6yry/resources'),\n",
       " PosixPath('/tmp/tmppeac6yry/utils'),\n",
       " PosixPath('/tmp/tmppeac6yry/.dvcignore'),\n",
       " PosixPath('/tmp/tmppeac6yry/.gitignore'),\n",
       " PosixPath('/tmp/tmppeac6yry/Makefile'),\n",
       " PosixPath('/tmp/tmppeac6yry/README.md'),\n",
       " PosixPath('/tmp/tmppeac6yry/custom_coco.yaml'),\n",
       " PosixPath('/tmp/tmppeac6yry/data.dvc'),\n",
       " PosixPath('/tmp/tmppeac6yry/de_walkthrough.ipynb'),\n",
       " PosixPath('/tmp/tmppeac6yry/requirements.txt')]"
      ]
     },
     "execution_count": 10,
     "metadata": {},
     "output_type": "execute_result"
    }
   ],
   "source": [
    "result"
   ]
  },
  {
   "cell_type": "code",
   "execution_count": 11,
   "id": "61390725-4b7c-4e64-95eb-6aed725a0bc7",
   "metadata": {},
   "outputs": [
    {
     "data": {
      "text/html": [
       "<div>\n",
       "<style scoped>\n",
       "    .dataframe tbody tr th:only-of-type {\n",
       "        vertical-align: middle;\n",
       "    }\n",
       "\n",
       "    .dataframe tbody tr th {\n",
       "        vertical-align: top;\n",
       "    }\n",
       "\n",
       "    .dataframe thead th {\n",
       "        text-align: right;\n",
       "    }\n",
       "</style>\n",
       "<table border=\"1\" class=\"dataframe\">\n",
       "  <thead>\n",
       "    <tr style=\"text-align: right;\">\n",
       "      <th></th>\n",
       "      <th>path</th>\n",
       "      <th>datapoint_id</th>\n",
       "      <th>dagshub_download_url</th>\n",
       "      <th>annotation</th>\n",
       "      <th>categories</th>\n",
       "      <th>height</th>\n",
       "      <th>media type</th>\n",
       "      <th>size</th>\n",
       "      <th>split</th>\n",
       "      <th>valid_datapoint</th>\n",
       "      <th>width</th>\n",
       "      <th>year</th>\n",
       "    </tr>\n",
       "  </thead>\n",
       "  <tbody>\n",
       "    <tr>\n",
       "      <th>0</th>\n",
       "      <td>train/000000005105.jpg</td>\n",
       "      <td>44457250</td>\n",
       "      <td>https://dagshub.com/api/v1/repos/Dean/COCO_1K/...</td>\n",
       "      <td>a91ae4c7313ded6f3d4d1c8690d6270b0a1e50c0f6414b...</td>\n",
       "      <td>bench, dog, sports ball, person, car, surfboard</td>\n",
       "      <td>480</td>\n",
       "      <td>image/jpeg</td>\n",
       "      <td>127731</td>\n",
       "      <td>train</td>\n",
       "      <td>True</td>\n",
       "      <td>640</td>\n",
       "      <td>2017</td>\n",
       "    </tr>\n",
       "    <tr>\n",
       "      <th>1</th>\n",
       "      <td>train/000000000722.jpg</td>\n",
       "      <td>44457251</td>\n",
       "      <td>https://dagshub.com/api/v1/repos/Dean/COCO_1K/...</td>\n",
       "      <td>27af1c02c73bcf9a7fa6ca71e3b8593f0f60cc25fea9b0...</td>\n",
       "      <td>car, backpack, kite, person</td>\n",
       "      <td>457</td>\n",
       "      <td>image/jpeg</td>\n",
       "      <td>130509</td>\n",
       "      <td>train</td>\n",
       "      <td>True</td>\n",
       "      <td>640</td>\n",
       "      <td>2017</td>\n",
       "    </tr>\n",
       "    <tr>\n",
       "      <th>2</th>\n",
       "      <td>train/000000001404.jpg</td>\n",
       "      <td>44457252</td>\n",
       "      <td>https://dagshub.com/api/v1/repos/Dean/COCO_1K/...</td>\n",
       "      <td>dbaaf7176c7ea5e37427a878cd05006cffd8b1071c9ead...</td>\n",
       "      <td>teddy bear, couch, person</td>\n",
       "      <td>640</td>\n",
       "      <td>image/jpeg</td>\n",
       "      <td>149037</td>\n",
       "      <td>train</td>\n",
       "      <td>True</td>\n",
       "      <td>478</td>\n",
       "      <td>2017</td>\n",
       "    </tr>\n",
       "    <tr>\n",
       "      <th>3</th>\n",
       "      <td>train/000000001681.jpg</td>\n",
       "      <td>44457253</td>\n",
       "      <td>https://dagshub.com/api/v1/repos/Dean/COCO_1K/...</td>\n",
       "      <td>b1221a645f24134449cecf7c8b2eed9113c612cdf2e876...</td>\n",
       "      <td>book, clock, plate</td>\n",
       "      <td>333</td>\n",
       "      <td>image/jpeg</td>\n",
       "      <td>135878</td>\n",
       "      <td>train</td>\n",
       "      <td>True</td>\n",
       "      <td>500</td>\n",
       "      <td>2017</td>\n",
       "    </tr>\n",
       "    <tr>\n",
       "      <th>4</th>\n",
       "      <td>train/000000003084.jpg</td>\n",
       "      <td>44457254</td>\n",
       "      <td>https://dagshub.com/api/v1/repos/Dean/COCO_1K/...</td>\n",
       "      <td>c6cba8de8ef2d3d36bb3965c30aac1b10b7a41dd08ae10...</td>\n",
       "      <td>clock</td>\n",
       "      <td>480</td>\n",
       "      <td>image/jpeg</td>\n",
       "      <td>152442</td>\n",
       "      <td>train</td>\n",
       "      <td>True</td>\n",
       "      <td>640</td>\n",
       "      <td>2017</td>\n",
       "    </tr>\n",
       "    <tr>\n",
       "      <th>...</th>\n",
       "      <td>...</td>\n",
       "      <td>...</td>\n",
       "      <td>...</td>\n",
       "      <td>...</td>\n",
       "      <td>...</td>\n",
       "      <td>...</td>\n",
       "      <td>...</td>\n",
       "      <td>...</td>\n",
       "      <td>...</td>\n",
       "      <td>...</td>\n",
       "      <td>...</td>\n",
       "      <td>...</td>\n",
       "    </tr>\n",
       "    <tr>\n",
       "      <th>1194</th>\n",
       "      <td>train/new_data/000000001076.jpg</td>\n",
       "      <td>46503740</td>\n",
       "      <td>https://dagshub.com/api/v1/repos/Dean/COCO_1K/...</td>\n",
       "      <td>bf4d0d261355ab18a749938bdee742f8e3dd9256982acb...</td>\n",
       "      <td>frisbee, person</td>\n",
       "      <td>428</td>\n",
       "      <td>image/jpeg</td>\n",
       "      <td>153605</td>\n",
       "      <td>train</td>\n",
       "      <td>True</td>\n",
       "      <td>640</td>\n",
       "      <td>2017</td>\n",
       "    </tr>\n",
       "    <tr>\n",
       "      <th>1195</th>\n",
       "      <td>train/new_data/000000000229.jpg</td>\n",
       "      <td>46503744</td>\n",
       "      <td>https://dagshub.com/api/v1/repos/Dean/COCO_1K/...</td>\n",
       "      <td>f6d648b2e04b18a61a0ab1b819f81c92a42ec4be4711be...</td>\n",
       "      <td>giraffe</td>\n",
       "      <td>428</td>\n",
       "      <td>image/jpeg</td>\n",
       "      <td>106330</td>\n",
       "      <td>train</td>\n",
       "      <td>True</td>\n",
       "      <td>640</td>\n",
       "      <td>2017</td>\n",
       "    </tr>\n",
       "    <tr>\n",
       "      <th>1196</th>\n",
       "      <td>train/new_data/000000000492.jpg</td>\n",
       "      <td>46503745</td>\n",
       "      <td>https://dagshub.com/api/v1/repos/Dean/COCO_1K/...</td>\n",
       "      <td>a461c832898cf5e347ca932712b867932911f5ed490160...</td>\n",
       "      <td>person, oven</td>\n",
       "      <td>383</td>\n",
       "      <td>image/jpeg</td>\n",
       "      <td>261056</td>\n",
       "      <td>train</td>\n",
       "      <td>True</td>\n",
       "      <td>640</td>\n",
       "      <td>2017</td>\n",
       "    </tr>\n",
       "    <tr>\n",
       "      <th>1197</th>\n",
       "      <td>train/new_data/000000001251.jpg</td>\n",
       "      <td>46503746</td>\n",
       "      <td>https://dagshub.com/api/v1/repos/Dean/COCO_1K/...</td>\n",
       "      <td>8af4521de762b4af822526604b66107fad74a1f3141d0a...</td>\n",
       "      <td>person, sink, couch, bottle</td>\n",
       "      <td>428</td>\n",
       "      <td>image/jpeg</td>\n",
       "      <td>163447</td>\n",
       "      <td>train</td>\n",
       "      <td>True</td>\n",
       "      <td>640</td>\n",
       "      <td>2017</td>\n",
       "    </tr>\n",
       "    <tr>\n",
       "      <th>1198</th>\n",
       "      <td>train/new_data/000000001367.jpg</td>\n",
       "      <td>46503747</td>\n",
       "      <td>https://dagshub.com/api/v1/repos/Dean/COCO_1K/...</td>\n",
       "      <td>bd52cc0a86072f1bd005ea51d523035fbaf2062aeb4f23...</td>\n",
       "      <td>bowl, skateboard, person</td>\n",
       "      <td>333</td>\n",
       "      <td>image/jpeg</td>\n",
       "      <td>129341</td>\n",
       "      <td>train</td>\n",
       "      <td>True</td>\n",
       "      <td>500</td>\n",
       "      <td>2017</td>\n",
       "    </tr>\n",
       "  </tbody>\n",
       "</table>\n",
       "<p>1199 rows × 12 columns</p>\n",
       "</div>"
      ],
      "text/plain": [
       "                                 path  datapoint_id  \\\n",
       "0              train/000000005105.jpg      44457250   \n",
       "1              train/000000000722.jpg      44457251   \n",
       "2              train/000000001404.jpg      44457252   \n",
       "3              train/000000001681.jpg      44457253   \n",
       "4              train/000000003084.jpg      44457254   \n",
       "...                               ...           ...   \n",
       "1194  train/new_data/000000001076.jpg      46503740   \n",
       "1195  train/new_data/000000000229.jpg      46503744   \n",
       "1196  train/new_data/000000000492.jpg      46503745   \n",
       "1197  train/new_data/000000001251.jpg      46503746   \n",
       "1198  train/new_data/000000001367.jpg      46503747   \n",
       "\n",
       "                                   dagshub_download_url  \\\n",
       "0     https://dagshub.com/api/v1/repos/Dean/COCO_1K/...   \n",
       "1     https://dagshub.com/api/v1/repos/Dean/COCO_1K/...   \n",
       "2     https://dagshub.com/api/v1/repos/Dean/COCO_1K/...   \n",
       "3     https://dagshub.com/api/v1/repos/Dean/COCO_1K/...   \n",
       "4     https://dagshub.com/api/v1/repos/Dean/COCO_1K/...   \n",
       "...                                                 ...   \n",
       "1194  https://dagshub.com/api/v1/repos/Dean/COCO_1K/...   \n",
       "1195  https://dagshub.com/api/v1/repos/Dean/COCO_1K/...   \n",
       "1196  https://dagshub.com/api/v1/repos/Dean/COCO_1K/...   \n",
       "1197  https://dagshub.com/api/v1/repos/Dean/COCO_1K/...   \n",
       "1198  https://dagshub.com/api/v1/repos/Dean/COCO_1K/...   \n",
       "\n",
       "                                             annotation  \\\n",
       "0     a91ae4c7313ded6f3d4d1c8690d6270b0a1e50c0f6414b...   \n",
       "1     27af1c02c73bcf9a7fa6ca71e3b8593f0f60cc25fea9b0...   \n",
       "2     dbaaf7176c7ea5e37427a878cd05006cffd8b1071c9ead...   \n",
       "3     b1221a645f24134449cecf7c8b2eed9113c612cdf2e876...   \n",
       "4     c6cba8de8ef2d3d36bb3965c30aac1b10b7a41dd08ae10...   \n",
       "...                                                 ...   \n",
       "1194  bf4d0d261355ab18a749938bdee742f8e3dd9256982acb...   \n",
       "1195  f6d648b2e04b18a61a0ab1b819f81c92a42ec4be4711be...   \n",
       "1196  a461c832898cf5e347ca932712b867932911f5ed490160...   \n",
       "1197  8af4521de762b4af822526604b66107fad74a1f3141d0a...   \n",
       "1198  bd52cc0a86072f1bd005ea51d523035fbaf2062aeb4f23...   \n",
       "\n",
       "                                           categories  height  media type  \\\n",
       "0     bench, dog, sports ball, person, car, surfboard     480  image/jpeg   \n",
       "1                         car, backpack, kite, person     457  image/jpeg   \n",
       "2                           teddy bear, couch, person     640  image/jpeg   \n",
       "3                                  book, clock, plate     333  image/jpeg   \n",
       "4                                               clock     480  image/jpeg   \n",
       "...                                               ...     ...         ...   \n",
       "1194                                  frisbee, person     428  image/jpeg   \n",
       "1195                                          giraffe     428  image/jpeg   \n",
       "1196                                     person, oven     383  image/jpeg   \n",
       "1197                      person, sink, couch, bottle     428  image/jpeg   \n",
       "1198                         bowl, skateboard, person     333  image/jpeg   \n",
       "\n",
       "        size  split  valid_datapoint  width  year  \n",
       "0     127731  train             True    640  2017  \n",
       "1     130509  train             True    640  2017  \n",
       "2     149037  train             True    478  2017  \n",
       "3     135878  train             True    500  2017  \n",
       "4     152442  train             True    640  2017  \n",
       "...      ...    ...              ...    ...   ...  \n",
       "1194  153605  train             True    640  2017  \n",
       "1195  106330  train             True    640  2017  \n",
       "1196  261056  train             True    640  2017  \n",
       "1197  163447  train             True    640  2017  \n",
       "1198  129341  train             True    500  2017  \n",
       "\n",
       "[1199 rows x 12 columns]"
      ]
     },
     "execution_count": 11,
     "metadata": {},
     "output_type": "execute_result"
    }
   ],
   "source": [
    "df"
   ]
  },
  {
   "cell_type": "code",
   "execution_count": null,
   "id": "4a47dffd-516e-4e29-b2ca-baa7c94c97cb",
   "metadata": {},
   "outputs": [],
   "source": []
  },
  {
   "cell_type": "code",
   "execution_count": 8,
   "id": "a5be26af-9bb3-459a-8bca-973f169d2c07",
   "metadata": {},
   "outputs": [],
   "source": [
    "file_tree = FileTree(td.name).render()"
   ]
  },
  {
   "cell_type": "code",
   "execution_count": 9,
   "id": "2d849606-9886-4249-b509-c09b56afcbfa",
   "metadata": {},
   "outputs": [
    {
     "data": {
      "text/plain": [
       "Accordion(children=[AccordionItem(children=[AccordionControl([DashIconify(icon='akar-icons:folder'), ' ', 'tmpdwyilzh1']), AccordionPanel([Text(children=[DashIconify(icon='akar-icons:file'), ' ', '.dvcignore'], style={'paddingTop': '5px'}), Text(children=[DashIconify(icon='akar-icons:file'), ' ', 'custom_coco.yaml'], style={'paddingTop': '5px'}), Text(children=[DashIconify(icon='akar-icons:file'), ' ', 'data.dvc'], style={'paddingTop': '5px'}), Text(children=[DashIconify(icon='akar-icons:file'), ' ', '.gitignore'], style={'paddingTop': '5px'}), Text(children=[DashIconify(icon='akar-icons:file'), ' ', 'README.md'], style={'paddingTop': '5px'}), Text(children=[DashIconify(icon='akar-icons:file'), ' ', 'de_walkthrough.ipynb'], style={'paddingTop': '5px'}), Accordion(children=[AccordionItem(children=[AccordionControl([DashIconify(icon='akar-icons:folder'), ' ', '.git']), AccordionPanel([Text(children=[DashIconify(icon='akar-icons:file'), ' ', 'index'], style={'paddingTop': '5px'}), Text(children=[DashIconify(icon='akar-icons:file'), ' ', 'HEAD'], style={'paddingTop': '5px'}), Accordion(children=[AccordionItem(children=[AccordionControl([DashIconify(icon='akar-icons:folder'), ' ', 'branches']), AccordionPanel([])], value='/tmp/tmpdwyilzh1/.git/branches')], multiple=True), Text(children=[DashIconify(icon='akar-icons:file'), ' ', 'packed-refs'], style={'paddingTop': '5px'}), Text(children=[DashIconify(icon='akar-icons:file'), ' ', 'config'], style={'paddingTop': '5px'}), Text(children=[DashIconify(icon='akar-icons:file'), ' ', 'description'], style={'paddingTop': '5px'}), Accordion(children=[AccordionItem(children=[AccordionControl([DashIconify(icon='akar-icons:folder'), ' ', 'hooks']), AccordionPanel([Text(children=[DashIconify(icon='akar-icons:file'), ' ', 'fsmonitor-watchman.sample'], style={'paddingTop': '5px'}), Text(children=[DashIconify(icon='akar-icons:file'), ' ', 'push-to-checkout.sample'], style={'paddingTop': '5px'}), Text(children=[DashIconify(icon='akar-icons:file'), ' ', 'update.sample'], style={'paddingTop': '5px'}), Text(children=[DashIconify(icon='akar-icons:file'), ' ', 'pre-applypatch.sample'], style={'paddingTop': '5px'}), Text(children=[DashIconify(icon='akar-icons:file'), ' ', 'pre-push.sample'], style={'paddingTop': '5px'}), Text(children=[DashIconify(icon='akar-icons:file'), ' ', 'pre-receive.sample'], style={'paddingTop': '5px'}), Text(children=[DashIconify(icon='akar-icons:file'), ' ', 'pre-merge-commit.sample'], style={'paddingTop': '5px'}), Text(children=[DashIconify(icon='akar-icons:file'), ' ', 'applypatch-msg.sample'], style={'paddingTop': '5px'}), Text(children=[DashIconify(icon='akar-icons:file'), ' ', 'pre-commit.sample'], style={'paddingTop': '5px'}), Text(children=[DashIconify(icon='akar-icons:file'), ' ', 'prepare-commit-msg.sample'], style={'paddingTop': '5px'}), Text(children=[DashIconify(icon='akar-icons:file'), ' ', 'commit-msg.sample'], style={'paddingTop': '5px'}), Text(children=[DashIconify(icon='akar-icons:file'), ' ', 'post-update.sample'], style={'paddingTop': '5px'}), Text(children=[DashIconify(icon='akar-icons:file'), ' ', 'pre-rebase.sample'], style={'paddingTop': '5px'})])], value='/tmp/tmpdwyilzh1/.git/hooks')], multiple=True), Accordion(children=[AccordionItem(children=[AccordionControl([DashIconify(icon='akar-icons:folder'), ' ', 'objects']), AccordionPanel([Accordion(children=[AccordionItem(children=[AccordionControl([DashIconify(icon='akar-icons:folder'), ' ', 'pack']), AccordionPanel([Text(children=[DashIconify(icon='akar-icons:file'), ' ', 'pack-5ae0e9d7e987b1db9315e2d7c7f84760c766ef01.pack'], style={'paddingTop': '5px'}), Text(children=[DashIconify(icon='akar-icons:file'), ' ', 'pack-5ae0e9d7e987b1db9315e2d7c7f84760c766ef01.idx'], style={'paddingTop': '5px'})])], value='/tmp/tmpdwyilzh1/.git/objects/pack')], multiple=True), Accordion(children=[AccordionItem(children=[AccordionControl([DashIconify(icon='akar-icons:folder'), ' ', 'info']), AccordionPanel([])], value='/tmp/tmpdwyilzh1/.git/objects/info')], multiple=True)])], value='/tmp/tmpdwyilzh1/.git/objects')], multiple=True), Accordion(children=[AccordionItem(children=[AccordionControl([DashIconify(icon='akar-icons:folder'), ' ', 'info']), AccordionPanel([Text(children=[DashIconify(icon='akar-icons:file'), ' ', 'exclude'], style={'paddingTop': '5px'})])], value='/tmp/tmpdwyilzh1/.git/info')], multiple=True), Accordion(children=[AccordionItem(children=[AccordionControl([DashIconify(icon='akar-icons:folder'), ' ', 'refs']), AccordionPanel([Accordion(children=[AccordionItem(children=[AccordionControl([DashIconify(icon='akar-icons:folder'), ' ', 'tags']), AccordionPanel([])], value='/tmp/tmpdwyilzh1/.git/refs/tags')], multiple=True), Accordion(children=[AccordionItem(children=[AccordionControl([DashIconify(icon='akar-icons:folder'), ' ', 'remotes']), AccordionPanel([Accordion(children=[AccordionItem(children=[AccordionControl([DashIconify(icon='akar-icons:folder'), ' ', 'origin']), AccordionPanel([Text(children=[DashIconify(icon='akar-icons:file'), ' ', 'HEAD'], style={'paddingTop': '5px'})])], value='/tmp/tmpdwyilzh1/.git/refs/remotes/origin')], multiple=True)])], value='/tmp/tmpdwyilzh1/.git/refs/remotes')], multiple=True), Accordion(children=[AccordionItem(children=[AccordionControl([DashIconify(icon='akar-icons:folder'), ' ', 'heads']), AccordionPanel([Text(children=[DashIconify(icon='akar-icons:file'), ' ', 'main'], style={'paddingTop': '5px'})])], value='/tmp/tmpdwyilzh1/.git/refs/heads')], multiple=True)])], value='/tmp/tmpdwyilzh1/.git/refs')], multiple=True), Accordion(children=[AccordionItem(children=[AccordionControl([DashIconify(icon='akar-icons:folder'), ' ', 'logs']), AccordionPanel([Text(children=[DashIconify(icon='akar-icons:file'), ' ', 'HEAD'], style={'paddingTop': '5px'}), Accordion(children=[AccordionItem(children=[AccordionControl([DashIconify(icon='akar-icons:folder'), ' ', 'refs']), AccordionPanel([Accordion(children=[AccordionItem(children=[AccordionControl([DashIconify(icon='akar-icons:folder'), ' ', 'remotes']), AccordionPanel([Accordion(children=[AccordionItem(children=[AccordionControl([DashIconify(icon='akar-icons:folder'), ' ', 'origin']), AccordionPanel([Text(children=[DashIconify(icon='akar-icons:file'), ' ', 'HEAD'], style={'paddingTop': '5px'})])], value='/tmp/tmpdwyilzh1/.git/logs/refs/remotes/origin')], multiple=True)])], value='/tmp/tmpdwyilzh1/.git/logs/refs/remotes')], multiple=True), Accordion(children=[AccordionItem(children=[AccordionControl([DashIconify(icon='akar-icons:folder'), ' ', 'heads']), AccordionPanel([Text(children=[DashIconify(icon='akar-icons:file'), ' ', 'main'], style={'paddingTop': '5px'})])], value='/tmp/tmpdwyilzh1/.git/logs/refs/heads')], multiple=True)])], value='/tmp/tmpdwyilzh1/.git/logs/refs')], multiple=True)])], value='/tmp/tmpdwyilzh1/.git/logs')], multiple=True)])], value='/tmp/tmpdwyilzh1/.git')], multiple=True), Accordion(children=[AccordionItem(children=[AccordionControl([DashIconify(icon='akar-icons:folder'), ' ', 'ls_backend']), AccordionPanel([Text(children=[DashIconify(icon='akar-icons:file'), ' ', 'supervisord.conf'], style={'paddingTop': '5px'}), Text(children=[DashIconify(icon='akar-icons:file'), ' ', '.gitignore'], style={'paddingTop': '5px'}), Text(children=[DashIconify(icon='akar-icons:file'), ' ', 'docker-compose.yml'], style={'paddingTop': '5px'}), Text(children=[DashIconify(icon='akar-icons:file'), ' ', 'README.md'], style={'paddingTop': '5px'}), Text(children=[DashIconify(icon='akar-icons:file'), ' ', 'yolo_ls.py'], style={'paddingTop': '5px'}), Text(children=[DashIconify(icon='akar-icons:file'), ' ', '.dockerignore'], style={'paddingTop': '5px'}), Text(children=[DashIconify(icon='akar-icons:file'), ' ', 'uwsgi.ini'], style={'paddingTop': '5px'}), Text(children=[DashIconify(icon='akar-icons:file'), ' ', 'Dockerfile'], style={'paddingTop': '5px'}), Text(children=[DashIconify(icon='akar-icons:file'), ' ', '_wsgi.py'], style={'paddingTop': '5px'}), Text(children=[DashIconify(icon='akar-icons:file'), ' ', 'requirements.txt'], style={'paddingTop': '5px'}), Text(children=[DashIconify(icon='akar-icons:file'), ' ', '__init__.py'], style={'paddingTop': '5px'})])], value='/tmp/tmpdwyilzh1/ls_backend')], multiple=True), Accordion(children=[AccordionItem(children=[AccordionControl([DashIconify(icon='akar-icons:folder'), ' ', 'utils']), AccordionPanel([Text(children=[DashIconify(icon='akar-icons:file'), ' ', 'dagshub_yolo_cb.py'], style={'paddingTop': '5px'}), Text(children=[DashIconify(icon='akar-icons:file'), ' ', 'yolo_converter.py'], style={'paddingTop': '5px'}), Text(children=[DashIconify(icon='akar-icons:file'), ' ', 'data.py'], style={'paddingTop': '5px'}), Text(children=[DashIconify(icon='akar-icons:file'), ' ', 'config.py'], style={'paddingTop': '5px'}), Text(children=[DashIconify(icon='akar-icons:file'), ' ', '__init__.py'], style={'paddingTop': '5px'})])], value='/tmp/tmpdwyilzh1/utils')], multiple=True), Text(children=[DashIconify(icon='akar-icons:file'), ' ', 'Makefile'], style={'paddingTop': '5px'}), Accordion(children=[AccordionItem(children=[AccordionControl([DashIconify(icon='akar-icons:folder'), ' ', 'resources']), AccordionPanel([Text(children=[DashIconify(icon='akar-icons:file'), ' ', 'de_flow.png'], style={'paddingTop': '5px'}), Text(children=[DashIconify(icon='akar-icons:file'), ' ', 'de_cover.png'], style={'paddingTop': '5px'})])], value='/tmp/tmpdwyilzh1/resources')], multiple=True), Text(children=[DashIconify(icon='akar-icons:file'), ' ', 'requirements.txt'], style={'paddingTop': '5px'}), Accordion(children=[AccordionItem(children=[AccordionControl([DashIconify(icon='akar-icons:folder'), ' ', '.dvc']), AccordionPanel([Text(children=[DashIconify(icon='akar-icons:file'), ' ', '.gitignore'], style={'paddingTop': '5px'}), Text(children=[DashIconify(icon='akar-icons:file'), ' ', 'config'], style={'paddingTop': '5px'})])], value='/tmp/tmpdwyilzh1/.dvc')], multiple=True)])], value='/tmp/tmpdwyilzh1')], multiple=True)"
      ]
     },
     "execution_count": 9,
     "metadata": {},
     "output_type": "execute_result"
    }
   ],
   "source": [
    "file_tree"
   ]
  },
  {
   "cell_type": "code",
   "execution_count": 10,
   "id": "a5f35b06-4df8-4e08-9d69-362f3eb28bb5",
   "metadata": {},
   "outputs": [],
   "source": [
    "accord_layout = dmc.Accordion(\n",
    "    disableChevronRotation=True,\n",
    "    children=[\n",
    "        dmc.AccordionItem(\n",
    "            [\n",
    "                dmc.AccordionControl(\n",
    "                    \"Personal Information\",\n",
    "                    icon=DashIconify(\n",
    "                        icon=\"tabler:user\",\n",
    "                        color=dmc.DEFAULT_THEME[\"colors\"][\"blue\"][6],\n",
    "                        width=20,\n",
    "                    ),\n",
    "                ),\n",
    "                dmc.AccordionPanel(\"some content\"),\n",
    "            ],\n",
    "            value=\"info\",\n",
    "        ),\n",
    "        dmc.AccordionItem(\n",
    "            [\n",
    "                dmc.AccordionControl(\n",
    "                    \"Shipping Address\",\n",
    "                    icon=DashIconify(\n",
    "                        icon=\"tabler:map-pin\",\n",
    "                        color=dmc.DEFAULT_THEME[\"colors\"][\"red\"][6],\n",
    "                        width=20,\n",
    "                    ),\n",
    "                ),\n",
    "                dmc.AccordionPanel(\"some content\"),\n",
    "            ],\n",
    "            value=\"addr\",\n",
    "        ),\n",
    "        dmc.AccordionItem(\n",
    "            [\n",
    "                dmc.AccordionControl(\n",
    "                    \"Confirmation\",\n",
    "                    icon=DashIconify(\n",
    "                        icon=\"tabler:circle-check\",\n",
    "                        color=dmc.DEFAULT_THEME[\"colors\"][\"green\"][6],\n",
    "                        width=20,\n",
    "                    ),\n",
    "                ),\n",
    "                dmc.AccordionPanel(\"some content\"),\n",
    "            ],\n",
    "            value=\"focus\",\n",
    "        ),\n",
    "    ],\n",
    ")"
   ]
  },
  {
   "cell_type": "code",
   "execution_count": 3,
   "id": "c6085272-f0da-4e0e-83c7-7508e52a3593",
   "metadata": {},
   "outputs": [],
   "source": [
    "import dash_mantine_components as dmc\n",
    "accord_layout = dmc.Accordion(\n",
    "    children=[\n",
    "        dmc.AccordionItem(\n",
    "            [\n",
    "                dmc.AccordionControl(\"Personal Information\"),\n",
    "                dmc.AccordionPanel(\"some content\"),\n",
    "            ],\n",
    "            value=\"info\",\n",
    "        ),\n",
    "    ],\n",
    ")"
   ]
  },
  {
   "cell_type": "code",
   "execution_count": 4,
   "id": "d0215efd-a839-4699-9449-6ad2a03cc6f5",
   "metadata": {},
   "outputs": [
    {
     "data": {
      "text/html": [
       "\n",
       "        <iframe\n",
       "            width=\"100%\"\n",
       "            height=\"650\"\n",
       "            src=\"http://127.0.0.1:8050/\"\n",
       "            frameborder=\"0\"\n",
       "            allowfullscreen\n",
       "            \n",
       "        ></iframe>\n",
       "        "
      ],
      "text/plain": [
       "<IPython.lib.display.IFrame at 0x7fa72b34bf50>"
      ]
     },
     "metadata": {},
     "output_type": "display_data"
    }
   ],
   "source": [
    "from dash import Dash, html\n",
    "app = Dash(__name__)\n",
    "app.layout = dmc.MantineProvider(\n",
    "    [\n",
    "        'wtf',\n",
    "        accord_layout,\n",
    "        'bruh',\n",
    "    ],\n",
    ")\n",
    "app.run()"
   ]
  },
  {
   "cell_type": "code",
   "execution_count": 1,
   "id": "21c8ee60-50c6-4f9c-9938-90169aa342d6",
   "metadata": {},
   "outputs": [
    {
     "data": {
      "text/plain": [
       "['__builtins__',\n",
       " '__cached__',\n",
       " '__doc__',\n",
       " '__file__',\n",
       " '__loader__',\n",
       " '__name__',\n",
       " '__package__',\n",
       " '__spec__',\n",
       " '__version__',\n",
       " '_available_react_versions',\n",
       " '_available_reactdom_versions',\n",
       " '_env_react_version',\n",
       " '_js_dist',\n",
       " '_js_dist_dependencies',\n",
       " '_set_react_version',\n",
       " 'os']"
      ]
     },
     "execution_count": 1,
     "metadata": {},
     "output_type": "execute_result"
    }
   ],
   "source": [
    "import dash\n",
    "dir(dash._dash_renderer)"
   ]
  },
  {
   "cell_type": "code",
   "execution_count": 27,
   "id": "bd18a693-25aa-4400-ad09-f504b0588909",
   "metadata": {},
   "outputs": [],
   "source": [
    "#dash._dash_renderer._set_react_version('18.2.0')"
   ]
  },
  {
   "cell_type": "code",
   "execution_count": null,
   "id": "90df7fb5-b03e-42b5-8073-ca1c3dfafe49",
   "metadata": {},
   "outputs": [],
   "source": []
  },
  {
   "cell_type": "code",
   "execution_count": null,
   "id": "b3dc2b23-f58f-4bef-89cf-18f153478133",
   "metadata": {},
   "outputs": [],
   "source": []
  },
  {
   "cell_type": "code",
   "execution_count": 3,
   "id": "4477493e-f21d-4513-88bd-629dd6becf13",
   "metadata": {},
   "outputs": [],
   "source": [
    "#annotations = query_all.get_blob_fields(\n",
    "#    'annotation', \n",
    "#    load_into_memory=True,\n",
    "#    cache_on_disk=False,\n",
    "#    num_proc=32,\n",
    "#)\n",
    "#\n",
    "#import itertools\n",
    "#from collections import Counter\n",
    "#counts = Counter(itertools.chain(*(x.split(', ') for x in df['categories'])))\n",
    "#\n",
    "#px.bar(x=list(counts.keys()), y=list(counts.values()))"
   ]
  },
  {
   "cell_type": "code",
   "execution_count": 3,
   "id": "8d8f4dd0-1667-4e29-b7af-b37c02a03444",
   "metadata": {},
   "outputs": [],
   "source": [
    "import pandas as pd\n",
    "from ydata_profiling import ProfileReport\n",
    "profile = ProfileReport(df, title=\"Profiling Report\")"
   ]
  },
  {
   "cell_type": "code",
   "execution_count": 21,
   "id": "06ca4de5-a976-413c-9f06-e60efc39d109",
   "metadata": {
    "scrolled": true
   },
   "outputs": [
    {
     "data": {
      "application/vnd.jupyter.widget-view+json": {
       "model_id": "50b6ccf168ab4036ac0036ac2d34719d",
       "version_major": 2,
       "version_minor": 0
      },
      "text/plain": [
       "                                             |                                        | [  0%]   00:00 -> (? l…"
      ]
     },
     "metadata": {},
     "output_type": "display_data"
    }
   ],
   "source": [
    "import sweetviz as sv\n",
    "my_report = sv.analyze(df)"
   ]
  },
  {
   "cell_type": "code",
   "execution_count": 23,
   "id": "317e9789-0638-4daa-bf79-88fef2c72d62",
   "metadata": {
    "scrolled": true
   },
   "outputs": [
    {
     "data": {
      "text/plain": [
       "['__class__',\n",
       " '__delattr__',\n",
       " '__dict__',\n",
       " '__dir__',\n",
       " '__doc__',\n",
       " '__eq__',\n",
       " '__format__',\n",
       " '__ge__',\n",
       " '__getattribute__',\n",
       " '__getitem__',\n",
       " '__getstate__',\n",
       " '__gt__',\n",
       " '__hash__',\n",
       " '__init__',\n",
       " '__init_subclass__',\n",
       " '__le__',\n",
       " '__lt__',\n",
       " '__module__',\n",
       " '__ne__',\n",
       " '__new__',\n",
       " '__reduce__',\n",
       " '__reduce_ex__',\n",
       " '__repr__',\n",
       " '__setattr__',\n",
       " '__setitem__',\n",
       " '__sizeof__',\n",
       " '__str__',\n",
       " '__subclasshook__',\n",
       " '__weakref__',\n",
       " '_association_graphs',\n",
       " '_association_graphs_compare',\n",
       " '_associations',\n",
       " '_associations_compare',\n",
       " '_features',\n",
       " '_jupyter_html',\n",
       " '_page_html',\n",
       " '_target',\n",
       " 'associations_html_compare',\n",
       " 'associations_html_source',\n",
       " 'compare_name',\n",
       " 'corr_warning',\n",
       " 'dataframe_summary_html',\n",
       " 'generate_comet_friendly_html',\n",
       " 'get_predetermined_type',\n",
       " 'get_sanitized_bool_series',\n",
       " 'get_target_type',\n",
       " 'get_type',\n",
       " 'get_what_influences_me',\n",
       " 'graph_legend',\n",
       " 'log_comet',\n",
       " 'num_summaries',\n",
       " 'process_associations',\n",
       " 'progress_bar',\n",
       " 'run_id',\n",
       " 'sanitize_bool',\n",
       " 'show_html',\n",
       " 'show_notebook',\n",
       " 'source_name',\n",
       " 'summarize_category_types',\n",
       " 'summarize_dataframe',\n",
       " 'summary_compare',\n",
       " 'summary_source',\n",
       " 'test_mode',\n",
       " 'use_config_if_none',\n",
       " 'verbose_print',\n",
       " 'verbosity_level']"
      ]
     },
     "execution_count": 23,
     "metadata": {},
     "output_type": "execute_result"
    }
   ],
   "source": [
    "dir(my_report)"
   ]
  },
  {
   "cell_type": "code",
   "execution_count": 26,
   "id": "9ac261ec-5025-498b-9e79-8088a0b2d121",
   "metadata": {},
   "outputs": [
    {
     "name": "stdout",
     "output_type": "stream",
     "text": [
      "Report SWEETVIZ_REPORT.html was generated! NOTEBOOK/COLAB USERS: the web browser MAY not pop up, regardless, the report IS saved in your notebook/colab files.\n"
     ]
    },
    {
     "name": "stderr",
     "output_type": "stream",
     "text": [
      "Couldn't find a suitable web browser!\n",
      "\n",
      "Set the BROWSER environment variable to your desired browser.\n",
      "\n",
      "Warning: program returned non-zero exit code #256\n",
      "Warning: failed to launch javaldx - java may not function correctly\n"
     ]
    },
    {
     "name": "stdout",
     "output_type": "stream",
     "text": [
      "Opening \"/home/zndr27/repos/yeet/SWEETVIZ_REPORT.html\" with LibreOffice Writer  (text/html)\n"
     ]
    }
   ],
   "source": [
    "my_report.show_html()"
   ]
  },
  {
   "cell_type": "code",
   "execution_count": null,
   "id": "22ea8259-84b9-4d98-aa0e-71c1e1687f6f",
   "metadata": {},
   "outputs": [],
   "source": []
  },
  {
   "cell_type": "code",
   "execution_count": null,
   "id": "ad30a88b-6b0d-447e-8cdc-4094fbcdb858",
   "metadata": {},
   "outputs": [],
   "source": []
  },
  {
   "cell_type": "code",
   "execution_count": 3,
   "id": "16d862b1-0325-4b91-8536-1898e8861a77",
   "metadata": {},
   "outputs": [],
   "source": [
    "import dtale\n",
    "d = dtale.show(df, host='localhost', subprocess=True)"
   ]
  },
  {
   "cell_type": "code",
   "execution_count": 4,
   "id": "33dc8e23-6ad7-49a6-970b-bd8c9e7531d8",
   "metadata": {},
   "outputs": [
    {
     "data": {
      "text/html": [
       "\n",
       "        <iframe\n",
       "            width=\"100%\"\n",
       "            height=\"475\"\n",
       "            src=\"http://localhost:40000/dtale/iframe/1\"\n",
       "            frameborder=\"0\"\n",
       "            allowfullscreen\n",
       "            \n",
       "        ></iframe>\n",
       "        "
      ],
      "text/plain": [
       "<IPython.lib.display.IFrame at 0x7fcbc6c3b6d0>"
      ]
     },
     "metadata": {},
     "output_type": "display_data"
    },
    {
     "data": {
      "text/plain": []
     },
     "execution_count": 4,
     "metadata": {},
     "output_type": "execute_result"
    }
   ],
   "source": [
    "d"
   ]
  },
  {
   "cell_type": "code",
   "execution_count": 4,
   "id": "98285554-359b-488f-b8a4-a394866d32da",
   "metadata": {
    "scrolled": true
   },
   "outputs": [
    {
     "data": {
      "text/plain": [
       "['__class__',\n",
       " '__delattr__',\n",
       " '__dict__',\n",
       " '__dir__',\n",
       " '__doc__',\n",
       " '__eq__',\n",
       " '__format__',\n",
       " '__ge__',\n",
       " '__getattribute__',\n",
       " '__getstate__',\n",
       " '__gt__',\n",
       " '__hash__',\n",
       " '__init__',\n",
       " '__init_subclass__',\n",
       " '__le__',\n",
       " '__lt__',\n",
       " '__module__',\n",
       " '__ne__',\n",
       " '__new__',\n",
       " '__reduce__',\n",
       " '__reduce_ex__',\n",
       " '__repr__',\n",
       " '__setattr__',\n",
       " '__sizeof__',\n",
       " '__str__',\n",
       " '__subclasshook__',\n",
       " '__weakref__',\n",
       " '_build_iframe',\n",
       " '_data_id',\n",
       " '_main_url',\n",
       " '_notebook_handle',\n",
       " '_url',\n",
       " 'adjust_cell_dimensions',\n",
       " 'app_root',\n",
       " 'build_main_url',\n",
       " 'cleanup',\n",
       " 'data',\n",
       " 'get_corr_matrix',\n",
       " 'get_pps_matrix',\n",
       " 'get_settings',\n",
       " 'is_proxy',\n",
       " 'is_up',\n",
       " 'kill',\n",
       " 'main_url',\n",
       " 'notebook',\n",
       " 'notebook_charts',\n",
       " 'notebook_correlations',\n",
       " 'offline_chart',\n",
       " 'open_browser',\n",
       " 'started_with_open_browser',\n",
       " 'update_id',\n",
       " 'update_settings',\n",
       " 'view_data']"
      ]
     },
     "execution_count": 4,
     "metadata": {},
     "output_type": "execute_result"
    }
   ],
   "source": [
    "dir(d)"
   ]
  },
  {
   "cell_type": "code",
   "execution_count": 5,
   "id": "d346e383-70dd-4eb3-bc2b-d4f1e00f91bd",
   "metadata": {},
   "outputs": [
    {
     "data": {
      "text/plain": [
       "{'_data_id': '1',\n",
       " '_url': 'http://localhost:40000',\n",
       " '_notebook_handle': None,\n",
       " 'started_with_open_browser': False,\n",
       " 'is_proxy': False,\n",
       " 'app_root': None}"
      ]
     },
     "execution_count": 5,
     "metadata": {},
     "output_type": "execute_result"
    }
   ],
   "source": [
    "d.__dict__"
   ]
  },
  {
   "cell_type": "code",
   "execution_count": null,
   "id": "ccb2b156-8928-42c1-89ae-ee001de07c7f",
   "metadata": {},
   "outputs": [],
   "source": []
  },
  {
   "cell_type": "code",
   "execution_count": null,
   "id": "8c7f527f-5223-4924-90e9-9212730e746b",
   "metadata": {},
   "outputs": [],
   "source": []
  },
  {
   "cell_type": "code",
   "execution_count": null,
   "id": "1db1f0ba-0749-4d62-91e8-d6d88cdbfaf5",
   "metadata": {},
   "outputs": [],
   "source": []
  }
 ],
 "metadata": {
  "kernelspec": {
   "display_name": "Python 3 (ipykernel)",
   "language": "python",
   "name": "python3"
  },
  "language_info": {
   "codemirror_mode": {
    "name": "ipython",
    "version": 3
   },
   "file_extension": ".py",
   "mimetype": "text/x-python",
   "name": "python",
   "nbconvert_exporter": "python",
   "pygments_lexer": "ipython3",
   "version": "3.12.4"
  }
 },
 "nbformat": 4,
 "nbformat_minor": 5
}
